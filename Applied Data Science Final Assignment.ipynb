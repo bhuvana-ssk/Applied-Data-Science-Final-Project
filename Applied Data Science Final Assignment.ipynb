{
 "cells": [
  {
   "cell_type": "code",
   "execution_count": null,
   "id": "225ae984",
   "metadata": {},
   "outputs": [],
   "source": [
    "import pandas as pd # library for data analsysis\n",
    "pd.set_option('display.max_columns', None)\n",
    "pd.set_option('display.max_rows', None)\n",
    "\n",
    "import json # library to handle JSON files\n",
    "\n",
    "!conda install -c conda-forge geopy --yes # uncomment this line if you haven't completed the Foursquare API lab\n",
    "from geopy.geocoders import Nominatim # convert an address into latitude and longitude values\n",
    "\n",
    "import requests # library to handle requests\n",
    "from pandas.io.json import json_normalize # tranform JSON file into a pandas dataframe\n",
    "\n",
    "# import k-means from clustering stage\n",
    "from sklearn.cluster import KMeans\n",
    "\n",
    "#!conda install -c conda-forge folium=0.5.0 --yes # uncomment this line if you haven't completed the Foursquare API lab\n",
    "import folium # map rendering library\n",
    "\n",
    "from bs4 import BeautifulSoup\n",
    "import csv\n",
    "\n",
    "!pip install geocoder\n",
    "import geocoder # to get longitude and latitude\n",
    "\n",
    "!conda install -c conda-forge folium=0.5.0 --yes\n",
    "import folium # Map plotting library\n",
    "import numpy as np\n",
    "from pandas.io.json import json_normalize # Tranform JSON file into a pandas dataframe\n",
    "\n",
    "# Matplotlib and associated plotting modules\n",
    "import matplotlib.cm as cm\n",
    "import matplotlib.colors as colors\n",
    "\n",
    "# Import k-means from clustering stage\n",
    "from sklearn.cluster import KMeans\n",
    "\n",
    "print('Libraries imported.')\n"
   ]
  },
  {
   "cell_type": "code",
   "execution_count": null,
   "id": "66f0aca6",
   "metadata": {},
   "outputs": [],
   "source": [
    "source = requests.get('https://en.wikipedia.org/wiki/Category:Areas_of_Manchester').text \n",
    "soup = BeautifulSoup(source, 'lxml')"
   ]
  },
  {
   "cell_type": "code",
   "execution_count": null,
   "id": "e05bce1e",
   "metadata": {},
   "outputs": [],
   "source": [
    "csv_file = open('manchester.csv', 'w')\n",
    "csv_writer = csv.writer(csv_file)\n",
    "csv_writer.writerow(['Neighbourhood'])"
   ]
  },
  {
   "cell_type": "code",
   "execution_count": null,
   "id": "ec55745b",
   "metadata": {},
   "outputs": [],
   "source": [
    "mwcg = soup.find_all(class_ = \"mw-category-group\")\n",
    "\n",
    "length = len(mwcg) # Gets the length of number of `mw-category-groups` present\n",
    "\n",
    "for i in range(1, length):  # Gets all the neighbourhoods\n",
    "    lists = mwcg [i].find_all('a')\n",
    "    for list in lists:\n",
    "        nbd = list.get('title') # Gets the title of the neighbourhood\n",
    "        csv_writer.writerow([nbd]) # Writes the name of the neighbourhood in the csv file"
   ]
  },
  {
   "cell_type": "code",
   "execution_count": null,
   "id": "2ae247cd",
   "metadata": {},
   "outputs": [],
   "source": [
    "csv_file.close()"
   ]
  },
  {
   "cell_type": "code",
   "execution_count": null,
   "id": "e0f1578c",
   "metadata": {},
   "outputs": [],
   "source": [
    "manchester_raw = pd.read_csv('manchester.csv')"
   ]
  },
  {
   "cell_type": "code",
   "execution_count": null,
   "id": "f6f999c8",
   "metadata": {},
   "outputs": [],
   "source": [
    "manchester_raw.shape"
   ]
  },
  {
   "cell_type": "code",
   "execution_count": null,
   "id": "bf843163",
   "metadata": {},
   "outputs": [],
   "source": [
    "manchester_raw"
   ]
  },
  {
   "cell_type": "code",
   "execution_count": null,
   "id": "e6ff5cdb",
   "metadata": {},
   "outputs": [],
   "source": [
    "# Initialize varialbes\n",
    "lat = []\n",
    "lng = []\n",
    "lat_lng_coords = None\n",
    "\n",
    "# Get postcodes from neighbourhoods table\n",
    "neighbourhoods = manchester_raw['Neighbourhood']\n",
    "\n",
    "# Store latitude and longitude values in lat and lng\n",
    "for nh in neighbourhoods:\n",
    "    g = geocoder.arcgis('{}, Manchester, UK'.format(nh))\n",
    "    lat_lng_coords = g.latlng\n",
    "    lat.append(lat_lng_coords[0])\n",
    "    lng.append(lat_lng_coords[1])"
   ]
  },
  {
   "cell_type": "code",
   "execution_count": null,
   "id": "8a7940ff",
   "metadata": {},
   "outputs": [],
   "source": [
    "man_data = manchester_raw\n",
    "man_data['Latitude'] = lat\n",
    "man_data['Longitude'] = lng"
   ]
  },
  {
   "cell_type": "code",
   "execution_count": null,
   "id": "b569de62",
   "metadata": {},
   "outputs": [],
   "source": [
    "man_data.head()"
   ]
  },
  {
   "cell_type": "code",
   "execution_count": null,
   "id": "3ec861ae",
   "metadata": {},
   "outputs": [],
   "source": [
    "CLIENT_ID = 'JW1LOUKCHOBJJGPYYZFROQZINFPN0AU4E44WNXM51NPILF3W' # your Foursquare ID\n",
    "CLIENT_SECRET = 'QEEXIE4ODGP1UZVI35RD0OQL2XS2WQWE3ZNAQ3T4CMSOMZNJ' # your Foursquare Secret\n",
    "VERSION = '20180605' # Foursquare API version\n",
    "\n",
    "print('Your credentails:')\n",
    "print('CLIENT_ID: ' + CLIENT_ID)\n",
    "print('CLIENT_SECRET:' + CLIENT_SECRET)"
   ]
  },
  {
   "cell_type": "code",
   "execution_count": null,
   "id": "f74beeb5",
   "metadata": {},
   "outputs": [],
   "source": [
    "from geopy.geocoders import Nominatim\n",
    "\n",
    "address = 'Manchester, UK'\n",
    "\n",
    "geolocator = Nominatim(user_agent=\"ny_explorer\")\n",
    "location = geolocator.geocode(address)\n",
    "latitude = location.latitude\n",
    "longitude = location.longitude\n",
    "print('The geograpical coordinate of Manchester are {}, {}.'.format(latitude, longitude))"
   ]
  },
  {
   "cell_type": "code",
   "execution_count": null,
   "id": "c5e50162",
   "metadata": {},
   "outputs": [],
   "source": [
    "man_map = folium.Map(location=[latitude, longitude], zoom_start=11)\n",
    "\n",
    "# add markers to map\n",
    "for lat, lng, label in zip(man_data['Latitude'], man_data['Longitude'], man_data['Neighbourhood']):\n",
    "    label = folium.Popup(label, parse_html=True)\n",
    "    folium.CircleMarker(\n",
    "        [lat, lng],\n",
    "        radius=5,\n",
    "        popup=label,\n",
    "        color='blue',\n",
    "        fill=True,\n",
    "        fill_color='#3186cc',\n",
    "        fill_opacity=0.7,\n",
    "        parse_html=False).add_to(man_map)  \n",
    "    \n",
    "man_map"
   ]
  },
  {
   "cell_type": "code",
   "execution_count": null,
   "id": "d92d5ca6",
   "metadata": {},
   "outputs": [],
   "source": [
    "# Gets the name of the category\n",
    "\n",
    "def get_category_type(row):\n",
    "    categories_list = row['Category']  \n",
    "    \n",
    "    if len(categories_list) == 0:\n",
    "        return None\n",
    "    else:\n",
    "        return categories_list[0]['name']"
   ]
  },
  {
   "cell_type": "code",
   "execution_count": null,
   "id": "d274756e",
   "metadata": {},
   "outputs": [],
   "source": [
    "explore_df_list = []\n",
    "\n",
    "for i, nhood_name in enumerate(man_data['Neighbourhood']):  \n",
    "    \n",
    "    try :\n",
    "        #Get neighbourhood data\n",
    "        nhood_name = man_data.loc[i, 'Neighbourhood']\n",
    "        nhood_lat = man_data.loc[i, 'Latitude']\n",
    "        nhood_lng = man_data.loc[i, 'Longitude']\n",
    "\n",
    "        radius = 1000 \n",
    "        LIMIT = 30 \n",
    "\n",
    "        url = 'https://api.foursquare.com/v2/venues/explore?client_id={} \\\n",
    "        &client_secret={}&ll={},{}&v={}&radius={}&limit={}'\\\n",
    "        .format(CLIENT_ID, CLIENT_SECRET, nhood_lat, nhood_lng, VERSION, radius, LIMIT)\n",
    "\n",
    "        results = json.loads(requests.get(url).text)\n",
    "        results = results['response']['groups'][0]['items']\n",
    "\n",
    "        nearby = json_normalize(results) # Flatten JSON\n",
    "\n",
    "        # Filter the columns\n",
    "        filtered_columns = ['venue.name', 'venue.categories', 'venue.location.lat', 'venue.location.lng']\n",
    "        nearby = nearby.loc[:, filtered_columns]\n",
    "\n",
    "        # Rename the columns\n",
    "        columns = ['Name', 'Category', 'Latitude', 'Longitude']\n",
    "        nearby.columns = columns\n",
    "\n",
    "        # Get the categories\n",
    "        nearby['Category'] = nearby.apply(get_category_type, axis=1)    \n",
    "\n",
    "        # Get the required data\n",
    "        for i, name in enumerate(nearby['Name']):\n",
    "            s_list = nearby.loc[i, :].values.tolist()  # Converts the numpy array to a python list\n",
    "            f_list = [nhood_name, nhood_lat, nhood_lng] + s_list\n",
    "            explore_df_list.append(f_list)\n",
    "    \n",
    "    except Exception as e:\n",
    "        pass"
   ]
  },
  {
   "cell_type": "code",
   "execution_count": null,
   "id": "af7b7280",
   "metadata": {},
   "outputs": [],
   "source": [
    "explore_man = pd.DataFrame([item for item in explore_df_list])\n",
    "explore_man.columns = ['Neighbourhood', 'Neighbourhood Latitude', 'Neighbourhood Longitude', 'Venue Name', 'Venue Category', 'Venue Latitude', 'Venue Longitude']\n",
    "explore_man.head()"
   ]
  },
  {
   "cell_type": "code",
   "execution_count": null,
   "id": "1122e205",
   "metadata": {},
   "outputs": [],
   "source": [
    "man_1hot = pd.get_dummies(explore_man[['Venue Category']], prefix=\"\", prefix_sep=\"\")\n",
    "\n",
    "\n",
    "# Add neighbourhood column back to dataframe\n",
    "man_1hot['Neighbourhood'] = explore_man['Neighbourhood'] \n",
    "\n",
    "\n",
    "# Move neighbourhood column to the first column\n",
    "fixed_columns = [man_1hot.columns[-1]] + man_1hot.columns[:-1].values.tolist()\n",
    "man_1hot = man_1hot[fixed_columns]\n",
    "\n",
    "man_1hot.head()"
   ]
  },
  {
   "cell_type": "code",
   "execution_count": null,
   "id": "702f4591",
   "metadata": {},
   "outputs": [],
   "source": [
    "man_grouped = man_1hot.groupby('Neighbourhood').mean().reset_index()\n",
    "man_grouped.head()"
   ]
  },
  {
   "cell_type": "code",
   "execution_count": null,
   "id": "dfab3fd1",
   "metadata": {},
   "outputs": [],
   "source": [
    "def top_common_venues(row, top_venues):\n",
    "    row_categories = row.iloc[1:]\n",
    "    row_categories_sorted = row_categories.sort_values(ascending=False)\n",
    "    \n",
    "    return row_categories_sorted.index.values[0:top_venues]"
   ]
  },
  {
   "cell_type": "code",
   "execution_count": null,
   "id": "268c6c55",
   "metadata": {},
   "outputs": [],
   "source": [
    "top_venues = 10\n",
    "indicators = ['st', 'nd', 'rd']\n",
    "\n",
    "# Create columns according to number of top venues\n",
    "columns = ['Neighbourhood']\n",
    "for ind in np.arange(top_venues):\n",
    "    try:\n",
    "        columns.append('{}{} Most Common Venue'.format(ind+1, indicators[ind]))\n",
    "    except:\n",
    "        columns.append('{}th Most Common Venue'.format(ind+1))\n",
    "\n",
    "# Create a new dataframe\n",
    "neighbourhoods_venues_sorted = pd.DataFrame(columns=columns)\n",
    "neighbourhoods_venues_sorted['Neighbourhood'] = man_grouped['Neighbourhood']\n",
    "\n",
    "for ind in np.arange(man_grouped.shape[0]):\n",
    "    neighbourhoods_venues_sorted.iloc[ind, 1:] = top_common_venues(man_grouped.iloc[ind, :], top_venues)\n",
    "\n",
    "neighbourhoods_venues_sorted.head()"
   ]
  },
  {
   "cell_type": "code",
   "execution_count": null,
   "id": "68214396",
   "metadata": {},
   "outputs": [],
   "source": [
    "man_grouped_clustering = man_grouped.drop('Neighbourhood', 1)"
   ]
  },
  {
   "cell_type": "code",
   "execution_count": null,
   "id": "5c78c777",
   "metadata": {},
   "outputs": [],
   "source": [
    "import matplotlib.pyplot as plt\n",
    "%matplotlib inline\n",
    "\n",
    "def plot(x, y, xlabel, ylabel):\n",
    "    plt.figure(figsize=(20,10))\n",
    "    plt.plot(np.arange(2, x), y, 'o-')\n",
    "    plt.xlabel(xlabel)\n",
    "    plt.ylabel(ylabel)\n",
    "    plt.xticks(np.arange(2, x))\n",
    "    plt.show()"
   ]
  },
  {
   "cell_type": "code",
   "execution_count": null,
   "id": "148a0777",
   "metadata": {},
   "outputs": [],
   "source": [
    "max_range = 15 #Max range 15 (number of clusters)\n",
    "\n",
    "from sklearn.metrics import silhouette_samples, silhouette_score\n",
    "\n",
    "\n",
    "indices = []\n",
    "scores = []\n",
    "\n",
    "for man_clusters in range(2, max_range) :\n",
    "    \n",
    "    # Run k-means clustering\n",
    "    man_gc = man_grouped_clustering\n",
    "    kmeans = KMeans(n_clusters = man_clusters, init = 'k-means++', random_state = 0).fit_predict(man_gc)\n",
    "    \n",
    "    # Gets the score for the clustering operation performed\n",
    "    score = silhouette_score(man_gc, kmeans)\n",
    "    \n",
    "    # Appending the index and score to the respective lists\n",
    "    indices.append(man_clusters)\n",
    "    scores.append(score)"
   ]
  },
  {
   "cell_type": "code",
   "execution_count": null,
   "id": "3175be97",
   "metadata": {},
   "outputs": [],
   "source": [
    "plot(max_range, scores, \"No. of clusters\", \"Silhouette Score\")"
   ]
  },
  {
   "cell_type": "code",
   "execution_count": null,
   "id": "795640af",
   "metadata": {},
   "outputs": [],
   "source": [
    "opt_value = 8"
   ]
  },
  {
   "cell_type": "code",
   "execution_count": null,
   "id": "45772aa5",
   "metadata": {},
   "outputs": [],
   "source": [
    "man_clusters = opt_value\n",
    "\n",
    "# Run k-means clustering\n",
    "man_gc = man_grouped_clustering\n",
    "kmeans = KMeans(n_clusters = man_clusters, init = 'k-means++', random_state = 0).fit(man_gc)"
   ]
  },
  {
   "cell_type": "code",
   "execution_count": null,
   "id": "d77591ee",
   "metadata": {},
   "outputs": [],
   "source": [
    "# Add clustering labels\n",
    "neighbourhoods_venues_sorted.insert(0, 'Cluster Labels', kmeans.labels_)"
   ]
  },
  {
   "cell_type": "code",
   "execution_count": null,
   "id": "ea6fbfa8",
   "metadata": {},
   "outputs": [],
   "source": [
    "man_final = man_data\n",
    "man_final = man_final.join(neighbourhoods_venues_sorted.set_index('Neighbourhood'), on='Neighbourhood')\n",
    "man_final.dropna(inplace = True)\n",
    "man_final['Cluster Labels'] = man_final['Cluster Labels'].astype(int)\n",
    "man_final.head()"
   ]
  },
  {
   "cell_type": "code",
   "execution_count": null,
   "id": "a7a1f3a0",
   "metadata": {},
   "outputs": [],
   "source": [
    "map_clusters = folium.Map(location=[latitude, longitude], zoom_start=11)\n",
    "\n",
    "# Setup color scheme for different clusters\n",
    "x = np.arange(man_clusters)\n",
    "ys = [i + x + (i*x)**2 for i in range(man_clusters)]\n",
    "colors_array = cm.rainbow(np.linspace(0, 1, len(ys)))\n",
    "rainbow = [colors.rgb2hex(i) for i in colors_array]\n",
    "\n",
    "markers_colors = []\n",
    "for lat, lon, poi, cluster in zip(man_final['Latitude'], man_final['Longitude'], man_final['Neighbourhood'], \n",
    "                                  man_final['Cluster Labels']):\n",
    "    label = folium.Popup(str(poi) + ' (Cluster ' + str(cluster + 1) + ')', parse_html=True)\n",
    "    map_clusters.add_child(\n",
    "        folium.features.CircleMarker(\n",
    "        [lat, lon],\n",
    "        radius=5,\n",
    "        popup=label,\n",
    "        color=rainbow[cluster-1],\n",
    "        fill=True,\n",
    "        fill_color=rainbow[cluster-1],\n",
    "        fill_opacity=0.7))\n",
    "       \n",
    "map_clusters"
   ]
  },
  {
   "cell_type": "code",
   "execution_count": null,
   "id": "607a914c",
   "metadata": {},
   "outputs": [],
   "source": [
    "val = 1\n",
    "man_final.loc[man_final['Cluster Labels'] == (val - 1), man_final.columns[[0] + np.arange(4, man_final.shape[1]).tolist()]]"
   ]
  },
  {
   "cell_type": "code",
   "execution_count": null,
   "id": "65d81049",
   "metadata": {},
   "outputs": [],
   "source": [
    "val = 2\n",
    "man_final.loc[man_final['Cluster Labels'] == (val - 1), man_final.columns[[0] + np.arange(4, man_final.shape[1]).tolist()]]"
   ]
  },
  {
   "cell_type": "code",
   "execution_count": null,
   "id": "1446c37e",
   "metadata": {},
   "outputs": [],
   "source": [
    "val = 3\n",
    "man_final.loc[man_final['Cluster Labels'] == (val - 1), man_final.columns[[0] + np.arange(4, man_final.shape[1]).tolist()]]"
   ]
  },
  {
   "cell_type": "code",
   "execution_count": null,
   "id": "d174c850",
   "metadata": {},
   "outputs": [],
   "source": [
    "val = 4\n",
    "man_final.loc[man_final['Cluster Labels'] == (val - 1), man_final.columns[[0] + np.arange(4, man_final.shape[1]).tolist()]]"
   ]
  },
  {
   "cell_type": "code",
   "execution_count": null,
   "id": "550c9e22",
   "metadata": {},
   "outputs": [],
   "source": [
    "val = 5\n",
    "man_final.loc[man_final['Cluster Labels'] == (val - 1), man_final.columns[[0] + np.arange(4, man_final.shape[1]).tolist()]]"
   ]
  },
  {
   "cell_type": "code",
   "execution_count": null,
   "id": "6ebbc44f",
   "metadata": {},
   "outputs": [],
   "source": [
    "val = 6\n",
    "man_final.loc[man_final['Cluster Labels'] == (val - 1), man_final.columns[[0] + np.arange(4, man_final.shape[1]).tolist()]]"
   ]
  },
  {
   "cell_type": "code",
   "execution_count": null,
   "id": "b343d26a",
   "metadata": {},
   "outputs": [],
   "source": [
    "val = 7\n",
    "man_final.loc[man_final['Cluster Labels'] == (val - 1), man_final.columns[[0] + np.arange(4, man_final.shape[1]).tolist()]]"
   ]
  },
  {
   "cell_type": "code",
   "execution_count": null,
   "id": "a2c3c1d3",
   "metadata": {},
   "outputs": [],
   "source": [
    "val = 8\n",
    "man_final.loc[man_final['Cluster Labels'] == (val - 1), man_final.columns[[0] + np.arange(4, man_final.shape[1]).tolist()]]"
   ]
  },
  {
   "cell_type": "code",
   "execution_count": null,
   "id": "57e1ecda",
   "metadata": {},
   "outputs": [],
   "source": []
  }
 ],
 "metadata": {
  "kernelspec": {
   "display_name": "Python 3 (ipykernel)",
   "language": "python",
   "name": "python3"
  },
  "language_info": {
   "codemirror_mode": {
    "name": "ipython",
    "version": 3
   },
   "file_extension": ".py",
   "mimetype": "text/x-python",
   "name": "python",
   "nbconvert_exporter": "python",
   "pygments_lexer": "ipython3",
   "version": "3.9.7"
  }
 },
 "nbformat": 4,
 "nbformat_minor": 5
}
